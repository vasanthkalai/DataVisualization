{
 "cells": [
  {
   "cell_type": "code",
   "execution_count": 47,
   "id": "ea43677c",
   "metadata": {},
   "outputs": [
    {
     "data": {
      "text/plain": [
       "'\\nAuthor: Vasanthakumar Kalaikkovan\\nDate: 10-04-2021\\nExercise 3.2\\n'"
      ]
     },
     "execution_count": 47,
     "metadata": {},
     "output_type": "execute_result"
    }
   ],
   "source": [
    "'''\n",
    "Author: Vasanthakumar Kalaikkovan\n",
    "Date: 10-04-2021\n",
    "Exercise 3.2\n",
    "'''"
   ]
  },
  {
   "cell_type": "code",
   "execution_count": 48,
   "id": "630c9351",
   "metadata": {},
   "outputs": [],
   "source": [
    "#Importing Libraries\n",
    "import matplotlib.pyplot as plt\n",
    "import numpy as np\n",
    "import pandas as pd\n",
    "import squarify"
   ]
  },
  {
   "cell_type": "code",
   "execution_count": 49,
   "id": "68a2c035",
   "metadata": {},
   "outputs": [
    {
     "data": {
      "text/html": [
       "<div>\n",
       "<style scoped>\n",
       "    .dataframe tbody tr th:only-of-type {\n",
       "        vertical-align: middle;\n",
       "    }\n",
       "\n",
       "    .dataframe tbody tr th {\n",
       "        vertical-align: top;\n",
       "    }\n",
       "\n",
       "    .dataframe thead th {\n",
       "        text-align: right;\n",
       "    }\n",
       "</style>\n",
       "<table border=\"1\" class=\"dataframe\">\n",
       "  <thead>\n",
       "    <tr style=\"text-align: right;\">\n",
       "      <th></th>\n",
       "      <th>year</th>\n",
       "      <th>category</th>\n",
       "      <th>expenditure</th>\n",
       "      <th>sex</th>\n",
       "    </tr>\n",
       "  </thead>\n",
       "  <tbody>\n",
       "    <tr>\n",
       "      <th>0</th>\n",
       "      <td>2008</td>\n",
       "      <td>Food</td>\n",
       "      <td>6443</td>\n",
       "      <td>1</td>\n",
       "    </tr>\n",
       "    <tr>\n",
       "      <th>1</th>\n",
       "      <td>2008</td>\n",
       "      <td>Alcoholic Beverages</td>\n",
       "      <td>444</td>\n",
       "      <td>1</td>\n",
       "    </tr>\n",
       "    <tr>\n",
       "      <th>2</th>\n",
       "      <td>2008</td>\n",
       "      <td>Housing</td>\n",
       "      <td>17109</td>\n",
       "      <td>1</td>\n",
       "    </tr>\n",
       "    <tr>\n",
       "      <th>3</th>\n",
       "      <td>2008</td>\n",
       "      <td>Apparel</td>\n",
       "      <td>1801</td>\n",
       "      <td>1</td>\n",
       "    </tr>\n",
       "    <tr>\n",
       "      <th>4</th>\n",
       "      <td>2008</td>\n",
       "      <td>Transportation</td>\n",
       "      <td>8604</td>\n",
       "      <td>1</td>\n",
       "    </tr>\n",
       "  </tbody>\n",
       "</table>\n",
       "</div>"
      ],
      "text/plain": [
       "   year             category  expenditure  sex\n",
       "0  2008                 Food         6443    1\n",
       "1  2008  Alcoholic Beverages          444    1\n",
       "2  2008              Housing        17109    1\n",
       "3  2008              Apparel         1801    1\n",
       "4  2008       Transportation         8604    1"
      ]
     },
     "execution_count": 49,
     "metadata": {},
     "output_type": "execute_result"
    }
   ],
   "source": [
    "#importing expenditure dataset\n",
    "expend_df=pd.read_csv(\"expenditures.txt\",sep='\\t',lineterminator='\\r')\n",
    "expend_df.head()"
   ]
  },
  {
   "cell_type": "code",
   "execution_count": 50,
   "id": "00eb4bd7",
   "metadata": {},
   "outputs": [
    {
     "data": {
      "text/html": [
       "<div>\n",
       "<style scoped>\n",
       "    .dataframe tbody tr th:only-of-type {\n",
       "        vertical-align: middle;\n",
       "    }\n",
       "\n",
       "    .dataframe tbody tr th {\n",
       "        vertical-align: top;\n",
       "    }\n",
       "\n",
       "    .dataframe thead th {\n",
       "        text-align: right;\n",
       "    }\n",
       "</style>\n",
       "<table border=\"1\" class=\"dataframe\">\n",
       "  <thead>\n",
       "    <tr style=\"text-align: right;\">\n",
       "      <th></th>\n",
       "      <th>Series id</th>\n",
       "      <th>Year</th>\n",
       "      <th>Period</th>\n",
       "      <th>Value</th>\n",
       "    </tr>\n",
       "  </thead>\n",
       "  <tbody>\n",
       "    <tr>\n",
       "      <th>0</th>\n",
       "      <td>LNS14000000</td>\n",
       "      <td>1948</td>\n",
       "      <td>M01</td>\n",
       "      <td>3.4</td>\n",
       "    </tr>\n",
       "    <tr>\n",
       "      <th>1</th>\n",
       "      <td>LNS14000000</td>\n",
       "      <td>1948</td>\n",
       "      <td>M02</td>\n",
       "      <td>3.8</td>\n",
       "    </tr>\n",
       "    <tr>\n",
       "      <th>2</th>\n",
       "      <td>LNS14000000</td>\n",
       "      <td>1948</td>\n",
       "      <td>M03</td>\n",
       "      <td>4.0</td>\n",
       "    </tr>\n",
       "    <tr>\n",
       "      <th>3</th>\n",
       "      <td>LNS14000000</td>\n",
       "      <td>1948</td>\n",
       "      <td>M04</td>\n",
       "      <td>3.9</td>\n",
       "    </tr>\n",
       "    <tr>\n",
       "      <th>4</th>\n",
       "      <td>LNS14000000</td>\n",
       "      <td>1948</td>\n",
       "      <td>M05</td>\n",
       "      <td>3.5</td>\n",
       "    </tr>\n",
       "  </tbody>\n",
       "</table>\n",
       "</div>"
      ],
      "text/plain": [
       "     Series id  Year Period  Value\n",
       "0  LNS14000000  1948    M01    3.4\n",
       "1  LNS14000000  1948    M02    3.8\n",
       "2  LNS14000000  1948    M03    4.0\n",
       "3  LNS14000000  1948    M04    3.9\n",
       "4  LNS14000000  1948    M05    3.5"
      ]
     },
     "execution_count": 50,
     "metadata": {},
     "output_type": "execute_result"
    }
   ],
   "source": [
    "#import unemployment dataset\n",
    "unemp_df=pd.read_csv(\"unemployement-rate-1948-2010.csv\")\n",
    "unemp_df.head()"
   ]
  },
  {
   "cell_type": "code",
   "execution_count": 51,
   "id": "9385fe48",
   "metadata": {},
   "outputs": [
    {
     "data": {
      "text/html": [
       "<div>\n",
       "<style scoped>\n",
       "    .dataframe tbody tr th:only-of-type {\n",
       "        vertical-align: middle;\n",
       "    }\n",
       "\n",
       "    .dataframe tbody tr th {\n",
       "        vertical-align: top;\n",
       "    }\n",
       "\n",
       "    .dataframe thead th {\n",
       "        text-align: right;\n",
       "    }\n",
       "</style>\n",
       "<table border=\"1\" class=\"dataframe\">\n",
       "  <thead>\n",
       "    <tr style=\"text-align: right;\">\n",
       "      <th></th>\n",
       "      <th>Series id</th>\n",
       "      <th>Year</th>\n",
       "      <th>Period</th>\n",
       "      <th>Value</th>\n",
       "      <th>Month</th>\n",
       "    </tr>\n",
       "  </thead>\n",
       "  <tbody>\n",
       "    <tr>\n",
       "      <th>0</th>\n",
       "      <td>LNS14000000</td>\n",
       "      <td>1948</td>\n",
       "      <td>M01</td>\n",
       "      <td>3.4</td>\n",
       "      <td>01</td>\n",
       "    </tr>\n",
       "    <tr>\n",
       "      <th>1</th>\n",
       "      <td>LNS14000000</td>\n",
       "      <td>1948</td>\n",
       "      <td>M02</td>\n",
       "      <td>3.8</td>\n",
       "      <td>02</td>\n",
       "    </tr>\n",
       "    <tr>\n",
       "      <th>2</th>\n",
       "      <td>LNS14000000</td>\n",
       "      <td>1948</td>\n",
       "      <td>M03</td>\n",
       "      <td>4.0</td>\n",
       "      <td>03</td>\n",
       "    </tr>\n",
       "    <tr>\n",
       "      <th>3</th>\n",
       "      <td>LNS14000000</td>\n",
       "      <td>1948</td>\n",
       "      <td>M04</td>\n",
       "      <td>3.9</td>\n",
       "      <td>04</td>\n",
       "    </tr>\n",
       "    <tr>\n",
       "      <th>4</th>\n",
       "      <td>LNS14000000</td>\n",
       "      <td>1948</td>\n",
       "      <td>M05</td>\n",
       "      <td>3.5</td>\n",
       "      <td>05</td>\n",
       "    </tr>\n",
       "  </tbody>\n",
       "</table>\n",
       "</div>"
      ],
      "text/plain": [
       "     Series id  Year Period  Value Month\n",
       "0  LNS14000000  1948    M01    3.4    01\n",
       "1  LNS14000000  1948    M02    3.8    02\n",
       "2  LNS14000000  1948    M03    4.0    03\n",
       "3  LNS14000000  1948    M04    3.9    04\n",
       "4  LNS14000000  1948    M05    3.5    05"
      ]
     },
     "execution_count": 51,
     "metadata": {},
     "output_type": "execute_result"
    }
   ],
   "source": [
    "#Creating Month Column\n",
    "unemp_df['Month']=unemp_df['Period'].astype(str).str.replace('M','')\n",
    "unemp_df.head()"
   ]
  },
  {
   "cell_type": "code",
   "execution_count": 52,
   "id": "15121f75",
   "metadata": {},
   "outputs": [
    {
     "data": {
      "text/html": [
       "<div>\n",
       "<style scoped>\n",
       "    .dataframe tbody tr th:only-of-type {\n",
       "        vertical-align: middle;\n",
       "    }\n",
       "\n",
       "    .dataframe tbody tr th {\n",
       "        vertical-align: top;\n",
       "    }\n",
       "\n",
       "    .dataframe thead th {\n",
       "        text-align: right;\n",
       "    }\n",
       "</style>\n",
       "<table border=\"1\" class=\"dataframe\">\n",
       "  <thead>\n",
       "    <tr style=\"text-align: right;\">\n",
       "      <th></th>\n",
       "      <th>Year</th>\n",
       "      <th>Value</th>\n",
       "    </tr>\n",
       "  </thead>\n",
       "  <tbody>\n",
       "    <tr>\n",
       "      <th>0</th>\n",
       "      <td>1948</td>\n",
       "      <td>45.0</td>\n",
       "    </tr>\n",
       "    <tr>\n",
       "      <th>1</th>\n",
       "      <td>1949</td>\n",
       "      <td>72.6</td>\n",
       "    </tr>\n",
       "    <tr>\n",
       "      <th>2</th>\n",
       "      <td>1950</td>\n",
       "      <td>62.5</td>\n",
       "    </tr>\n",
       "    <tr>\n",
       "      <th>3</th>\n",
       "      <td>1951</td>\n",
       "      <td>39.4</td>\n",
       "    </tr>\n",
       "    <tr>\n",
       "      <th>4</th>\n",
       "      <td>1952</td>\n",
       "      <td>36.3</td>\n",
       "    </tr>\n",
       "  </tbody>\n",
       "</table>\n",
       "</div>"
      ],
      "text/plain": [
       "   Year  Value\n",
       "0  1948   45.0\n",
       "1  1949   72.6\n",
       "2  1950   62.5\n",
       "3  1951   39.4\n",
       "4  1952   36.3"
      ]
     },
     "execution_count": 52,
     "metadata": {},
     "output_type": "execute_result"
    }
   ],
   "source": [
    "unemp_dfout=unemp_df.groupby('Year')['Value'].sum()\n",
    "unemp_dfout=unemp_dfout.to_frame().reset_index()\n",
    "unemp_dfout.head()"
   ]
  },
  {
   "cell_type": "code",
   "execution_count": 53,
   "id": "4cc160c3",
   "metadata": {},
   "outputs": [
    {
     "data": {
      "image/png": "[encoded data removed]",
      "text/plain": [
       "<Figure size 432x288 with 1 Axes>"
      ]
     },
     "metadata": {
      "needs_background": "light"
     },
     "output_type": "display_data"
    }
   ],
   "source": [
    "# Creating Tree Map\n",
    "squarify.plot(sizes=round(unemp_dfout[\"Value\"]),label=unemp_dfout[\"Year\"].astype(str),alpha=0.6)\n",
    "plt.title(\"Unemployment between 1984 to 2010\", size=15)\n",
    "plt.savefig(\"Python_Tree_Map.png\")\n",
    "plt.show()\n",
    "plt.close()"
   ]
  },
  {
   "cell_type": "code",
   "execution_count": 54,
   "id": "93fb36e6",
   "metadata": {},
   "outputs": [
    {
     "data": {
      "text/plain": [
       "0    62.5\n",
       "1    39.4\n",
       "2    36.3\n",
       "3    35.1\n",
       "4    67.1\n",
       "Name: Value, dtype: float64"
      ]
     },
     "execution_count": 54,
     "metadata": {},
     "output_type": "execute_result"
    }
   ],
   "source": [
    "#Creating generation dataset for the area map\n",
    "unemp_df50s=unemp_dfout[unemp_dfout[\"Year\"].astype(str).str.contains('195')][\"Value\"]\n",
    "unemp_df50s=unemp_df50s.reset_index(drop=True)\n",
    "unemp_df50s.head()"
   ]
  },
  {
   "cell_type": "code",
   "execution_count": 55,
   "id": "eae5777a",
   "metadata": {},
   "outputs": [],
   "source": [
    "unemp_df60s=unemp_dfout[unemp_dfout[\"Year\"].astype(str).str.contains('196')][\"Value\"]\n",
    "unemp_df60s=unemp_df60s.reset_index(drop=True)\n",
    "\n",
    "unemp_df70s=unemp_dfout[unemp_dfout[\"Year\"].astype(str).str.contains('197')][\"Value\"]\n",
    "unemp_df70s=unemp_df70s.reset_index(drop=True)\n",
    "\n",
    "unemp_df80s=unemp_dfout[unemp_dfout[\"Year\"].astype(str).str.contains('198')][\"Value\"]\n",
    "unemp_df80s=unemp_df80s.reset_index(drop=True)\n",
    "\n",
    "unemp_df90s=unemp_dfout[unemp_dfout[\"Year\"].astype(str).str.contains('199')][\"Value\"]\n",
    "unemp_df90s=unemp_df50s.reset_index(drop=True)\n",
    "\n",
    "unemp_df2000s=unemp_dfout[unemp_dfout[\"Year\"].astype(str).str.contains('200')][\"Value\"]\n",
    "unemp_df2000s=unemp_df2000s.reset_index(drop=True)"
   ]
  },
  {
   "cell_type": "code",
   "execution_count": 56,
   "id": "72e0c409",
   "metadata": {},
   "outputs": [],
   "source": [
    "temp={\"1950s\":unemp_df50s,\"1960s\":unemp_df60s,\"1970s\":unemp_df70s,\"1980s\":unemp_df80s,\"1990s\":unemp_df90s,\"2000s\":unemp_df2000s}"
   ]
  },
  {
   "cell_type": "code",
   "execution_count": 57,
   "id": "7253b243",
   "metadata": {},
   "outputs": [
    {
     "data": {
      "text/html": [
       "<div>\n",
       "<style scoped>\n",
       "    .dataframe tbody tr th:only-of-type {\n",
       "        vertical-align: middle;\n",
       "    }\n",
       "\n",
       "    .dataframe tbody tr th {\n",
       "        vertical-align: top;\n",
       "    }\n",
       "\n",
       "    .dataframe thead th {\n",
       "        text-align: right;\n",
       "    }\n",
       "</style>\n",
       "<table border=\"1\" class=\"dataframe\">\n",
       "  <thead>\n",
       "    <tr style=\"text-align: right;\">\n",
       "      <th></th>\n",
       "      <th>1950s</th>\n",
       "      <th>1960s</th>\n",
       "      <th>1970s</th>\n",
       "      <th>1980s</th>\n",
       "      <th>1990s</th>\n",
       "      <th>2000s</th>\n",
       "    </tr>\n",
       "  </thead>\n",
       "  <tbody>\n",
       "    <tr>\n",
       "      <th>0</th>\n",
       "      <td>62.5</td>\n",
       "      <td>66.5</td>\n",
       "      <td>59.8</td>\n",
       "      <td>86.1</td>\n",
       "      <td>62.5</td>\n",
       "      <td>47.6</td>\n",
       "    </tr>\n",
       "    <tr>\n",
       "      <th>1</th>\n",
       "      <td>39.4</td>\n",
       "      <td>80.3</td>\n",
       "      <td>71.4</td>\n",
       "      <td>91.4</td>\n",
       "      <td>39.4</td>\n",
       "      <td>56.9</td>\n",
       "    </tr>\n",
       "    <tr>\n",
       "      <th>2</th>\n",
       "      <td>36.3</td>\n",
       "      <td>66.8</td>\n",
       "      <td>67.2</td>\n",
       "      <td>116.5</td>\n",
       "      <td>36.3</td>\n",
       "      <td>69.4</td>\n",
       "    </tr>\n",
       "    <tr>\n",
       "      <th>3</th>\n",
       "      <td>35.1</td>\n",
       "      <td>67.7</td>\n",
       "      <td>58.3</td>\n",
       "      <td>115.2</td>\n",
       "      <td>35.1</td>\n",
       "      <td>71.9</td>\n",
       "    </tr>\n",
       "    <tr>\n",
       "      <th>4</th>\n",
       "      <td>67.1</td>\n",
       "      <td>61.9</td>\n",
       "      <td>67.7</td>\n",
       "      <td>90.1</td>\n",
       "      <td>67.1</td>\n",
       "      <td>66.5</td>\n",
       "    </tr>\n",
       "  </tbody>\n",
       "</table>\n",
       "</div>"
      ],
      "text/plain": [
       "   1950s  1960s  1970s  1980s  1990s  2000s\n",
       "0   62.5   66.5   59.8   86.1   62.5   47.6\n",
       "1   39.4   80.3   71.4   91.4   39.4   56.9\n",
       "2   36.3   66.8   67.2  116.5   36.3   69.4\n",
       "3   35.1   67.7   58.3  115.2   35.1   71.9\n",
       "4   67.1   61.9   67.7   90.1   67.1   66.5"
      ]
     },
     "execution_count": 57,
     "metadata": {},
     "output_type": "execute_result"
    }
   ],
   "source": [
    "unemp_gen_df=pd.DataFrame(temp)\n",
    "unemp_gen_df.head()"
   ]
  },
  {
   "cell_type": "code",
   "execution_count": 58,
   "id": "40e9cdcc",
   "metadata": {},
   "outputs": [
    {
     "data": {
      "image/png": "[encoded data removed]",
      "text/plain": [
       "<Figure size 432x288 with 1 Axes>"
      ]
     },
     "metadata": {
      "needs_background": "light"
     },
     "output_type": "display_data"
    }
   ],
   "source": [
    "#Area Charts\n",
    "xVals=[0,1,2,3,4,5,6,7,8,9]\n",
    "unemp_gen_df.plot(kind='area',stacked=False,xticks=xVals)\n",
    "plt.ylabel(\"Unemployment Rate\")\n",
    "plt.xlabel(\"Years\")\n",
    "plt.title(\"Decade Unemployment Rate\",size=15)\n",
    "plt.savefig(\"Python_Area_chart.png\")\n",
    "plt.show()\n",
    "plt.close()"
   ]
  },
  {
   "cell_type": "code",
   "execution_count": 59,
   "id": "9b5312ef",
   "metadata": {},
   "outputs": [
    {
     "data": {
      "text/html": [
       "<div>\n",
       "<style scoped>\n",
       "    .dataframe tbody tr th:only-of-type {\n",
       "        vertical-align: middle;\n",
       "    }\n",
       "\n",
       "    .dataframe tbody tr th {\n",
       "        vertical-align: top;\n",
       "    }\n",
       "\n",
       "    .dataframe thead th {\n",
       "        text-align: right;\n",
       "    }\n",
       "</style>\n",
       "<table border=\"1\" class=\"dataframe\">\n",
       "  <thead>\n",
       "    <tr style=\"text-align: right;\">\n",
       "      <th>category</th>\n",
       "      <th>year</th>\n",
       "      <th>Alcoholic Beverages</th>\n",
       "      <th>Apparel</th>\n",
       "      <th>Cash Contributions</th>\n",
       "      <th>Education</th>\n",
       "      <th>Entertainment</th>\n",
       "      <th>Food</th>\n",
       "      <th>Healthcare</th>\n",
       "      <th>Housing</th>\n",
       "      <th>Miscellaneous</th>\n",
       "      <th>Personal Care</th>\n",
       "      <th>Personal Insurance</th>\n",
       "      <th>Reading</th>\n",
       "      <th>Tobacco Products</th>\n",
       "      <th>Transportation</th>\n",
       "    </tr>\n",
       "  </thead>\n",
       "  <tbody>\n",
       "    <tr>\n",
       "      <th>0</th>\n",
       "      <td>1984</td>\n",
       "      <td>275</td>\n",
       "      <td>1319</td>\n",
       "      <td>706</td>\n",
       "      <td>303</td>\n",
       "      <td>1055</td>\n",
       "      <td>3290</td>\n",
       "      <td>1049</td>\n",
       "      <td>6674</td>\n",
       "      <td>451</td>\n",
       "      <td>289</td>\n",
       "      <td>1897</td>\n",
       "      <td>132</td>\n",
       "      <td>228</td>\n",
       "      <td>4304</td>\n",
       "    </tr>\n",
       "    <tr>\n",
       "      <th>1</th>\n",
       "      <td>1985</td>\n",
       "      <td>306</td>\n",
       "      <td>1420</td>\n",
       "      <td>805</td>\n",
       "      <td>321</td>\n",
       "      <td>1170</td>\n",
       "      <td>3477</td>\n",
       "      <td>1108</td>\n",
       "      <td>7087</td>\n",
       "      <td>529</td>\n",
       "      <td>303</td>\n",
       "      <td>2016</td>\n",
       "      <td>141</td>\n",
       "      <td>219</td>\n",
       "      <td>4587</td>\n",
       "    </tr>\n",
       "    <tr>\n",
       "      <th>2</th>\n",
       "      <td>1986</td>\n",
       "      <td>271</td>\n",
       "      <td>1346</td>\n",
       "      <td>746</td>\n",
       "      <td>314</td>\n",
       "      <td>1149</td>\n",
       "      <td>3448</td>\n",
       "      <td>1135</td>\n",
       "      <td>7292</td>\n",
       "      <td>522</td>\n",
       "      <td>303</td>\n",
       "      <td>2127</td>\n",
       "      <td>140</td>\n",
       "      <td>230</td>\n",
       "      <td>4842</td>\n",
       "    </tr>\n",
       "    <tr>\n",
       "      <th>3</th>\n",
       "      <td>1987</td>\n",
       "      <td>289</td>\n",
       "      <td>1446</td>\n",
       "      <td>741</td>\n",
       "      <td>337</td>\n",
       "      <td>1193</td>\n",
       "      <td>3664</td>\n",
       "      <td>1135</td>\n",
       "      <td>7569</td>\n",
       "      <td>562</td>\n",
       "      <td>330</td>\n",
       "      <td>2175</td>\n",
       "      <td>142</td>\n",
       "      <td>232</td>\n",
       "      <td>4600</td>\n",
       "    </tr>\n",
       "    <tr>\n",
       "      <th>4</th>\n",
       "      <td>1988</td>\n",
       "      <td>269</td>\n",
       "      <td>1489</td>\n",
       "      <td>693</td>\n",
       "      <td>342</td>\n",
       "      <td>1329</td>\n",
       "      <td>3748</td>\n",
       "      <td>1298</td>\n",
       "      <td>8079</td>\n",
       "      <td>578</td>\n",
       "      <td>334</td>\n",
       "      <td>2249</td>\n",
       "      <td>150</td>\n",
       "      <td>242</td>\n",
       "      <td>5093</td>\n",
       "    </tr>\n",
       "  </tbody>\n",
       "</table>\n",
       "</div>"
      ],
      "text/plain": [
       "category  year  Alcoholic Beverages  Apparel  Cash Contributions  Education  \\\n",
       "0         1984                  275     1319                 706        303   \n",
       "1         1985                  306     1420                 805        321   \n",
       "2         1986                  271     1346                 746        314   \n",
       "3         1987                  289     1446                 741        337   \n",
       "4         1988                  269     1489                 693        342   \n",
       "\n",
       "category  Entertainment  Food  Healthcare  Housing  Miscellaneous  \\\n",
       "0                  1055  3290        1049     6674            451   \n",
       "1                  1170  3477        1108     7087            529   \n",
       "2                  1149  3448        1135     7292            522   \n",
       "3                  1193  3664        1135     7569            562   \n",
       "4                  1329  3748        1298     8079            578   \n",
       "\n",
       "category  Personal Care  Personal Insurance  Reading  Tobacco Products  \\\n",
       "0                   289                1897      132               228   \n",
       "1                   303                2016      141               219   \n",
       "2                   303                2127      140               230   \n",
       "3                   330                2175      142               232   \n",
       "4                   334                2249      150               242   \n",
       "\n",
       "category  Transportation  \n",
       "0                   4304  \n",
       "1                   4587  \n",
       "2                   4842  \n",
       "3                   4600  \n",
       "4                   5093  "
      ]
     },
     "execution_count": 59,
     "metadata": {},
     "output_type": "execute_result"
    }
   ],
   "source": [
    "#Pivoting expenditure df\n",
    "expend_df_pivot=pd.pivot_table(expend_df,values='expenditure',index=['year'],columns='category').reset_index()\n",
    "index=expend_df_pivot['year']\n",
    "expend_df_pivot.head()"
   ]
  },
  {
   "cell_type": "code",
   "execution_count": 60,
   "id": "38de9b60",
   "metadata": {},
   "outputs": [],
   "source": [
    "data_temp = expend_df_pivot[['Alcoholic Beverages', 'Apparel', 'Cash Contributions', 'Education', 'Entertainment', 'Food', \n",
    "                    'Healthcare', 'Housing', 'Miscellaneous', 'Personal Care', 'Personal Insurance', 'Reading', \n",
    "                    'Tobacco Products', 'Transportation']].copy()\n",
    "\n",
    "rec = data_temp.to_records(index=False)\n",
    "data = list(rec)\n",
    "\n",
    "temp_df = pd.DataFrame(data_temp\n",
    "                    , columns=['Alcoholic Beverages', 'Apparel', 'Cash Contributions', 'Education', 'Entertainment', \n",
    "                               'Food', 'Healthcare', 'Housing', 'Miscellaneous', 'Personal Care', 'Personal Insurance', \n",
    "                               'Reading', 'Tobacco Products', 'Transportation']\n",
    "                   )\n",
    "\n",
    "col = list(data_temp.columns.values)"
   ]
  },
  {
   "cell_type": "code",
   "execution_count": 61,
   "id": "9c50ab6b",
   "metadata": {},
   "outputs": [
    {
     "data": {
      "image/png": "[encoded data removed]",
      "text/plain": [
       "<Figure size 432x288 with 1 Axes>"
      ]
     },
     "metadata": {
      "needs_background": "light"
     },
     "output_type": "display_data"
    }
   ],
   "source": [
    "pos=(0,1,2,3,4,5,6,7,8,9,10,11,12,13,14,15,16,17,18,19,20,21,22,23,24)\n",
    "axs=temp_df.plot.area(stacked=True,xticks=pos,rot=90)\n",
    "axs.set_xticklabels(index)\n",
    "plt.ylabel(\"Year\",size=8)\n",
    "plt.xlabel(\"Expenditures\",size=8)\n",
    "plt.title(\"Expenditures by year\",size=15)\n",
    "axs.legend(bbox_to_anchor=(1.1,1.05),prop={\"size\":7})\n",
    "plt.savefig(\"Python_Stacked_Area.png\")\n",
    "plt.show()\n",
    "plt.close()"
   ]
  },
  {
   "cell_type": "code",
   "execution_count": null,
   "id": "6bea2fb7",
   "metadata": {},
   "outputs": [],
   "source": []
  }
 ],
 "metadata": {
  "kernelspec": {
   "display_name": "Python 3",
   "language": "python",
   "name": "python3"
  },
  "language_info": {
   "codemirror_mode": {
    "name": "ipython",
    "version": 3
   },
   "file_extension": ".py",
   "mimetype": "text/x-python",
   "name": "python",
   "nbconvert_exporter": "python",
   "pygments_lexer": "ipython3",
   "version": "3.6.13"
  }
 },
 "nbformat": 4,
 "nbformat_minor": 5
}
